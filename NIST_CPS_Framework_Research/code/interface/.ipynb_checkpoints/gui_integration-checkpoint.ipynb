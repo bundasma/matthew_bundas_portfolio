{
 "cells": [
  {
   "cell_type": "code",
   "execution_count": 11,
   "metadata": {},
   "outputs": [],
   "source": [
    "import tkinter as tk\n",
    "\n",
    "from owlready2 import *"
   ]
  },
  {
   "cell_type": "code",
   "execution_count": 12,
   "metadata": {},
   "outputs": [],
   "source": [
    "root = tk.Tk()\n",
    "\n",
    "cps_onto = get_ontology(\"file://./cpsframework-v3-base.owl\").load()\n",
    "\n",
    "\n",
    "def add_concern():\n",
    "    print(\"clicked on it\")\n",
    "    test2_concern = cps_onto.Concern(\"test2_concern\",ontology = cps_onto)\n",
    "    print(\"clicked on it\")\n",
    "    \n",
    "    cps_onto.save(file = \"testconcern.owl\", format = \"rdfxml\")\n",
    "    print(\"saved it\")\n",
    "    \n",
    "    \n",
    "\n",
    "canvas = tk.Canvas(root, height = 700, width = 700, bg = \"#18453b\")\n",
    "\n",
    "canvas.pack()\n",
    "\n",
    "\n",
    "frame = tk.Frame(root, bg=\"white\")\n",
    "frame.place(relwidth = .8, relheight = .8, relx = .1, rely = .1)\n",
    "\n",
    "\n",
    "addConcern = tk.Button(root, text = \"Add Concern\",padx = 10, pady = 5, fg = \"black\",command = add_concern)\n",
    "\n",
    "addConcern.pack()\n",
    "\n",
    "root.mainloop()\n",
    "\n"
   ]
  },
  {
   "cell_type": "code",
   "execution_count": null,
   "metadata": {},
   "outputs": [],
   "source": []
  }
 ],
 "metadata": {
  "kernelspec": {
   "display_name": "Python 3",
   "language": "python",
   "name": "python3"
  },
  "language_info": {
   "codemirror_mode": {
    "name": "ipython",
    "version": 3
   },
   "file_extension": ".py",
   "mimetype": "text/x-python",
   "name": "python",
   "nbconvert_exporter": "python",
   "pygments_lexer": "ipython3",
   "version": "3.6.8"
  }
 },
 "nbformat": 4,
 "nbformat_minor": 2
}
