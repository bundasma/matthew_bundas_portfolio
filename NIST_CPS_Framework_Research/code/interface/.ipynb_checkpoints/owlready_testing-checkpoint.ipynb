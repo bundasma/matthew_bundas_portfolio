{
 "cells": [
  {
   "cell_type": "code",
   "execution_count": 1,
   "metadata": {},
   "outputs": [],
   "source": [
    "from owlready2 import *\n"
   ]
  },
  {
   "cell_type": "code",
   "execution_count": null,
   "metadata": {},
   "outputs": [],
   "source": []
  },
  {
   "cell_type": "code",
   "execution_count": 2,
   "metadata": {},
   "outputs": [],
   "source": [
    "cps_onto = get_ontology(\"file:///Users/matthewbundas/Desktop/NMSU_Research/Tran/Research_CPS/interface/testing/cpsframework-v3-base.owl\").load()\n",
    "\n",
    "\n",
    "pizza_onto = get_ontology(\"file:///Users/matthewbundas/Desktop/NMSU_Research/Tran/Research_CPS/interface/testing/pizza.owl\").load()\n",
    "\n",
    "\n",
    "\n"
   ]
  },
  {
   "cell_type": "code",
   "execution_count": 3,
   "metadata": {},
   "outputs": [],
   "source": [
    "class VeggieTopping(pizza_onto.Topping):\n",
    "    pass"
   ]
  },
  {
   "cell_type": "code",
   "execution_count": 4,
   "metadata": {},
   "outputs": [],
   "source": [
    "class VeganTopping(pizza_onto.Topping):\n",
    "    pass"
   ]
  },
  {
   "cell_type": "code",
   "execution_count": 6,
   "metadata": {},
   "outputs": [
    {
     "name": "stdout",
     "output_type": "stream",
     "text": [
      "pizza.Pizza\n"
     ]
    }
   ],
   "source": [
    "print(pizza_onto.Pizza)\n"
   ]
  },
  {
   "cell_type": "code",
   "execution_count": 7,
   "metadata": {},
   "outputs": [],
   "source": [
    "classes = pizza_onto.classes()"
   ]
  },
  {
   "cell_type": "code",
   "execution_count": 8,
   "metadata": {},
   "outputs": [
    {
     "data": {
      "text/plain": [
       "[pizza.CheeseTopping,\n",
       " pizza.FishTopping,\n",
       " pizza.MeatTopping,\n",
       " pizza.Pizza,\n",
       " pizza.TomatoTopping,\n",
       " pizza.Topping,\n",
       " pizza.VeggieTopping,\n",
       " pizza.VeganTopping]"
      ]
     },
     "execution_count": 8,
     "metadata": {},
     "output_type": "execute_result"
    }
   ],
   "source": [
    "list(classes)"
   ]
  },
  {
   "cell_type": "code",
   "execution_count": 9,
   "metadata": {},
   "outputs": [
    {
     "data": {
      "text/plain": [
       "[pizza.CheeseTopping, pizza.FishTopping, pizza.MeatTopping, pizza.TomatoTopping, pizza.Topping, pizza.VeggieTopping, pizza.VeganTopping]"
      ]
     },
     "execution_count": 9,
     "metadata": {},
     "output_type": "execute_result"
    }
   ],
   "source": [
    "pizza_onto.search(iri = \"*Topping\")"
   ]
  },
  {
   "cell_type": "code",
   "execution_count": 10,
   "metadata": {},
   "outputs": [],
   "source": [
    "pizza_onto.save(file = \"veggietest.owl\", format = \"rdfxml\")"
   ]
  },
  {
   "cell_type": "code",
   "execution_count": 2,
   "metadata": {},
   "outputs": [],
   "source": [
    "cps_onto = get_ontology(\"file://./cpsframework-v3-base.owl\").load()\n"
   ]
  },
  {
   "cell_type": "code",
   "execution_count": null,
   "metadata": {},
   "outputs": [],
   "source": [
    "classes = cps_onto.classes()\n",
    "\n",
    "for i in range(1):\n",
    "    print(next(classes))\n",
    "\n"
   ]
  },
  {
   "cell_type": "code",
   "execution_count": null,
   "metadata": {},
   "outputs": [],
   "source": []
  }
 ],
 "metadata": {
  "kernelspec": {
   "display_name": "Python 3",
   "language": "python",
   "name": "python3"
  },
  "language_info": {
   "codemirror_mode": {
    "name": "ipython",
    "version": 3
   },
   "file_extension": ".py",
   "mimetype": "text/x-python",
   "name": "python",
   "nbconvert_exporter": "python",
   "pygments_lexer": "ipython3",
   "version": "3.6.8"
  }
 },
 "nbformat": 4,
 "nbformat_minor": 2
}
